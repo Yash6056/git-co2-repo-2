{
 "cells": [
  {
   "cell_type": "code",
   "execution_count": 1,
   "metadata": {},
   "outputs": [
    {
     "name": "stdout",
     "output_type": "stream",
     "text": [
      "10 data type <class 'int'>\n",
      "10.9 data type <class 'float'>\n",
      "saksham data type <class 'str'>\n"
     ]
    }
   ],
   "source": [
    "a=10\n",
    "print(a,\"data type\",type(a))\n",
    "a = 10.9\n",
    "print(a,\"data type\",type(a))\n",
    "a = \"saksham\"\n",
    "print(a,\"data type\",type(a))\n"
   ]
  },
  {
   "cell_type": "code",
   "execution_count": 4,
   "metadata": {},
   "outputs": [
    {
     "name": "stdout",
     "output_type": "stream",
     "text": [
      "a is greater\n",
      "if block\n"
     ]
    }
   ],
   "source": [
    "#if (condition)\n",
    "# {\n",
    "\n",
    "\n",
    "#}\n",
    "a=10\n",
    "b=20\n",
    "if (a<b) :\n",
    "    print(\"a is greater\") \n",
    "    print(\"if block\")\n",
    "else :\n",
    "  print(\"b ids greater\")\n",
    "  print(\"outside if\")"
   ]
  },
  {
   "cell_type": "code",
   "execution_count": 5,
   "metadata": {},
   "outputs": [
    {
     "name": "stdout",
     "output_type": "stream",
     "text": [
      "1.0\n",
      "1\n",
      "4\n",
      "4\n",
      "0\n"
     ]
    }
   ],
   "source": [
    "# // floor division\n",
    "# // exponent\n",
    "print(1/1)\n",
    "print(1//1)\n",
    "\n",
    "print (2*2)\n",
    "print (2**2)\n",
    "\n",
    "print (6%3)"
   ]
  },
  {
   "cell_type": "code",
   "execution_count": null,
   "metadata": {},
   "outputs": [],
   "source": [
    "a=10\n",
    "a+=10 # a=a+10\n",
    "print(a)\n",
    "\n",
    "a**=2\n",
    "print(a)"
   ]
  }
 ],
 "metadata": {
  "kernelspec": {
   "display_name": "Python 3",
   "language": "python",
   "name": "python3"
  },
  "language_info": {
   "codemirror_mode": {
    "name": "ipython",
    "version": 3
   },
   "file_extension": ".py",
   "mimetype": "text/x-python",
   "name": "python",
   "nbconvert_exporter": "python",
   "pygments_lexer": "ipython3",
   "version": "3.12.3"
  }
 },
 "nbformat": 4,
 "nbformat_minor": 2
}
